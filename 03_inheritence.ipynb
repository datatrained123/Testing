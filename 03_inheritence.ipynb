{
 "cells": [
  {
   "cell_type": "code",
   "execution_count": null,
   "id": "0770539d",
   "metadata": {},
   "outputs": [],
   "source": [
    "base class\n",
    "class a:\n",
    "    def fun1:\n",
    "        \n",
    "    def fun2:\n",
    "        \n",
    "        "
   ]
  },
  {
   "cell_type": "code",
   "execution_count": null,
   "id": "c8ea9a73",
   "metadata": {},
   "outputs": [],
   "source": [
    "derived class\n",
    "class b(a):\n",
    "    "
   ]
  },
  {
   "cell_type": "code",
   "execution_count": null,
   "id": "7a9dce72",
   "metadata": {},
   "outputs": [],
   "source": []
  },
  {
   "cell_type": "code",
   "execution_count": 50,
   "id": "f574ff2f",
   "metadata": {},
   "outputs": [],
   "source": [
    "from math import pi"
   ]
  },
  {
   "cell_type": "code",
   "execution_count": 47,
   "id": "c7378f78",
   "metadata": {},
   "outputs": [],
   "source": [
    "class Circle:\n",
    "    ''' the circle instance models a circle with its properties'''\n",
    "    \n",
    "    def __init__(self, radius=1.0):\n",
    "        ''' inititalize a default value of the radius as 1.0'''\n",
    "        self.radius = radius # create an instance for variable radius\n",
    "        \n",
    "    def __str__(self):\n",
    "        ''' returns a descriptive string for this instance, invoked by print() and str()'''\n",
    "        return 'this is a circle with radius of {:.2f}'.format(self.radius)\n",
    "    \n",
    "    def __repr__(self):\n",
    "        '''Return a formal string that will be able to recreate this instance, invoked by repr()'''\n",
    "        return 'Circle(radius = {})'.format(self.radius)\n",
    "    \n",
    "    def area(self):\n",
    "        '''return the area'''\n",
    "        return self.radius**2*pi"
   ]
  },
  {
   "cell_type": "code",
   "execution_count": 48,
   "id": "2d410363",
   "metadata": {},
   "outputs": [],
   "source": [
    "c = Circle()"
   ]
  },
  {
   "cell_type": "code",
   "execution_count": 51,
   "id": "1c3c80bb",
   "metadata": {},
   "outputs": [
    {
     "data": {
      "text/plain": [
       "3.141592653589793"
      ]
     },
     "execution_count": 51,
     "metadata": {},
     "output_type": "execute_result"
    }
   ],
   "source": [
    "c.area()"
   ]
  },
  {
   "cell_type": "code",
   "execution_count": 52,
   "id": "ea587f18",
   "metadata": {},
   "outputs": [],
   "source": [
    "c1 = Circle(4)"
   ]
  },
  {
   "cell_type": "code",
   "execution_count": 53,
   "id": "e9e657ac",
   "metadata": {},
   "outputs": [
    {
     "data": {
      "text/plain": [
       "50.26548245743669"
      ]
     },
     "execution_count": 53,
     "metadata": {},
     "output_type": "execute_result"
    }
   ],
   "source": [
    "c1.area()"
   ]
  },
  {
   "cell_type": "code",
   "execution_count": null,
   "id": "57627d66",
   "metadata": {},
   "outputs": [],
   "source": []
  },
  {
   "cell_type": "code",
   "execution_count": null,
   "id": "86206500",
   "metadata": {},
   "outputs": [],
   "source": []
  },
  {
   "cell_type": "code",
   "execution_count": null,
   "id": "b12075d1",
   "metadata": {},
   "outputs": [],
   "source": []
  },
  {
   "cell_type": "code",
   "execution_count": null,
   "id": "f0b91c34",
   "metadata": {},
   "outputs": [],
   "source": []
  },
  {
   "cell_type": "code",
   "execution_count": null,
   "id": "ec53182c",
   "metadata": {},
   "outputs": [],
   "source": []
  },
  {
   "cell_type": "code",
   "execution_count": 54,
   "id": "59411464",
   "metadata": {},
   "outputs": [],
   "source": [
    "class Cylinder(Circle):\n",
    "    '''Cylinder class is a subclass of Circle'''\n",
    "    \n",
    "    def __init__(self,radius=2.0, height = 1.0):\n",
    "        '''Initializer'''\n",
    "        super().__init__(radius)       # invoke superclass initializer\n",
    "        # or \n",
    "        # Circle.__init__(radius)\n",
    "        self.height = height\n",
    "        \n",
    "    def __str__(self):\n",
    "        '''self description of str() and print()'''\n",
    "        # if __str__() is missing in the subclass, print() will invoke the superclass version\n",
    "        return \"Cylinder(radius = {} , height = {})\".format(self.radius, self.height)\n",
    "    \n",
    "    def volume(self):\n",
    "        '''Returns the volume of the cylinder'''\n",
    "        return self.area() * self.height      # inherited the area from the circle class "
   ]
  },
  {
   "cell_type": "code",
   "execution_count": 55,
   "id": "92a5e0af",
   "metadata": {},
   "outputs": [],
   "source": [
    "cyl = Cylinder(1.1,2.2)"
   ]
  },
  {
   "cell_type": "code",
   "execution_count": 56,
   "id": "4f8c21fe",
   "metadata": {},
   "outputs": [
    {
     "name": "stdout",
     "output_type": "stream",
     "text": [
      "Cylinder(radius = 1.1 , height = 2.2)\n"
     ]
    }
   ],
   "source": [
    "print(cyl)"
   ]
  },
  {
   "cell_type": "code",
   "execution_count": 57,
   "id": "fb77ff90",
   "metadata": {},
   "outputs": [
    {
     "data": {
      "text/plain": [
       "'Cylinder(radius = 1.1 , height = 2.2)'"
      ]
     },
     "execution_count": 57,
     "metadata": {},
     "output_type": "execute_result"
    }
   ],
   "source": [
    "cyl.__str__()"
   ]
  },
  {
   "cell_type": "code",
   "execution_count": 58,
   "id": "16f899ee",
   "metadata": {},
   "outputs": [
    {
     "data": {
      "text/plain": [
       "3.8013271108436504"
      ]
     },
     "execution_count": 58,
     "metadata": {},
     "output_type": "execute_result"
    }
   ],
   "source": [
    "# area of the circle\n",
    "cyl.area()"
   ]
  },
  {
   "cell_type": "code",
   "execution_count": 59,
   "id": "1ecead9a",
   "metadata": {},
   "outputs": [
    {
     "data": {
      "text/plain": [
       "8.362919643856031"
      ]
     },
     "execution_count": 59,
     "metadata": {},
     "output_type": "execute_result"
    }
   ],
   "source": [
    "cyl.volume()"
   ]
  },
  {
   "cell_type": "code",
   "execution_count": 60,
   "id": "a717e0d8",
   "metadata": {},
   "outputs": [
    {
     "data": {
      "text/plain": [
       "1.1"
      ]
     },
     "execution_count": 60,
     "metadata": {},
     "output_type": "execute_result"
    }
   ],
   "source": [
    "cyl.radius"
   ]
  },
  {
   "cell_type": "code",
   "execution_count": 61,
   "id": "0a73cf90",
   "metadata": {},
   "outputs": [
    {
     "data": {
      "text/plain": [
       "2.2"
      ]
     },
     "execution_count": 61,
     "metadata": {},
     "output_type": "execute_result"
    }
   ],
   "source": [
    "cyl.height"
   ]
  },
  {
   "cell_type": "code",
   "execution_count": 62,
   "id": "fbcfab65",
   "metadata": {},
   "outputs": [],
   "source": [
    "cyl2 = Cylinder(2,3)"
   ]
  },
  {
   "cell_type": "code",
   "execution_count": 63,
   "id": "2f9d918f",
   "metadata": {},
   "outputs": [
    {
     "data": {
      "text/plain": [
       "37.69911184307752"
      ]
     },
     "execution_count": 63,
     "metadata": {},
     "output_type": "execute_result"
    }
   ],
   "source": [
    "cyl2.volume()"
   ]
  },
  {
   "cell_type": "code",
   "execution_count": 64,
   "id": "26bf7644",
   "metadata": {},
   "outputs": [
    {
     "name": "stdout",
     "output_type": "stream",
     "text": [
      "2\n",
      "3\n",
      "12.566370614359172\n",
      "37.69911184307752\n"
     ]
    }
   ],
   "source": [
    "print(cyl2.radius)\n",
    "print(cyl2.height)\n",
    "print(cyl2.area())\n",
    "print(cyl2.volume())"
   ]
  },
  {
   "cell_type": "code",
   "execution_count": null,
   "id": "d1136f96",
   "metadata": {},
   "outputs": [],
   "source": [
    "# Methods I can use inside the class Cylinder\n",
    "print(dir(Cylinder))"
   ]
  },
  {
   "cell_type": "code",
   "execution_count": null,
   "id": "ef863310",
   "metadata": {},
   "outputs": [],
   "source": [
    "# Superclass\n",
    "c1 = Circle(3.3)"
   ]
  },
  {
   "cell_type": "code",
   "execution_count": null,
   "id": "37788d19",
   "metadata": {},
   "outputs": [],
   "source": [
    "print(c1)"
   ]
  },
  {
   "cell_type": "code",
   "execution_count": null,
   "id": "af02c549",
   "metadata": {},
   "outputs": [],
   "source": [
    "isinstance(c1, Circle)"
   ]
  },
  {
   "cell_type": "code",
   "execution_count": null,
   "id": "3b92dce4",
   "metadata": {},
   "outputs": [],
   "source": [
    "isinstance(c1, Cylinder)"
   ]
  },
  {
   "cell_type": "markdown",
   "id": "10087ac6",
   "metadata": {},
   "source": [
    "- A supeclass object is never an instance of the subclass object"
   ]
  },
  {
   "cell_type": "markdown",
   "id": "f82f7ff3",
   "metadata": {},
   "source": [
    "# Types of Inheritence"
   ]
  },
  {
   "cell_type": "markdown",
   "id": "1caaae2a",
   "metadata": {},
   "source": [
    "- **There are 5 types of inheritence in Python**\n",
    "    - Single Inheritence\n",
    "    - Multiple Inheritence\n",
    "    - Multilevel Inheritence\n",
    "    - Heirarchical Inheritence\n",
    "    - Hybrid Inheritence\n"
   ]
  },
  {
   "cell_type": "markdown",
   "id": "bc95773a",
   "metadata": {},
   "source": [
    "## Single inheritence"
   ]
  },
  {
   "cell_type": "markdown",
   "id": "6385b935",
   "metadata": {},
   "source": [
    "- Only 1 Base class and 1 derived class is called Single inheritence"
   ]
  },
  {
   "cell_type": "code",
   "execution_count": 1,
   "id": "938597f6",
   "metadata": {},
   "outputs": [],
   "source": [
    "class Country():\n",
    "    def showCountry(self):\n",
    "        print('This is India')\n",
    "        \n",
    "class State(Country):\n",
    "    def showState(self):\n",
    "        print('This is State')"
   ]
  },
  {
   "cell_type": "code",
   "execution_count": 2,
   "id": "04353da9",
   "metadata": {},
   "outputs": [],
   "source": [
    "s = State()"
   ]
  },
  {
   "cell_type": "code",
   "execution_count": 3,
   "id": "da63e7a5",
   "metadata": {},
   "outputs": [
    {
     "name": "stdout",
     "output_type": "stream",
     "text": [
      "This is State\n"
     ]
    }
   ],
   "source": [
    "s.showState()"
   ]
  },
  {
   "cell_type": "code",
   "execution_count": 4,
   "id": "8fa521d0",
   "metadata": {},
   "outputs": [
    {
     "name": "stdout",
     "output_type": "stream",
     "text": [
      "This is India\n"
     ]
    }
   ],
   "source": [
    "s.showCountry()"
   ]
  },
  {
   "cell_type": "markdown",
   "id": "9eb5405e",
   "metadata": {},
   "source": [
    "## Multiple Inhertance"
   ]
  },
  {
   "cell_type": "markdown",
   "id": "85b0757b",
   "metadata": {},
   "source": [
    "- When a derived class contains more than one base class"
   ]
  },
  {
   "cell_type": "code",
   "execution_count": 5,
   "id": "bd266b3d",
   "metadata": {},
   "outputs": [],
   "source": [
    "class Student:\n",
    "    '''This is the first base class'''\n",
    "    def method1(self,sno,sname):\n",
    "        '''First method'''\n",
    "        self.sno = sno\n",
    "        self.sname = sname\n",
    "        \n",
    "    def method2(self):\n",
    "        '''Second method'''\n",
    "        print('Student Roll number : ', self.sno)\n",
    "        print('Student Name : ', self.sname)\n",
    "        \n",
    "class Marks:\n",
    "    '''This is the second base class'''\n",
    "    def setmarks(self, m1,m2):\n",
    "        '''This is the first method'''\n",
    "        self.marks1 = m1\n",
    "        self.marks2 = m2\n",
    "        \n",
    "    def putmarks(self):\n",
    "        '''This is the second method'''\n",
    "        print('Marks 1 : ', self.marks1)\n",
    "        print('Marks 2 : ', self.marks2)\n",
    "      "
   ]
  },
  {
   "cell_type": "code",
   "execution_count": 6,
   "id": "b6f55ac5",
   "metadata": {},
   "outputs": [],
   "source": [
    "  \n",
    "class result(Marks, Student):  # multiple inheritance\n",
    "    '''This is the derived class \n",
    "    containing the properties of both classes Marks and Students'''\n",
    "    def calc(self):\n",
    "        self.total = self.marks1 + self.marks2\n",
    "        \n",
    "    def puttotal(self):\n",
    "        '''This is the second method of the derived class'''\n",
    "        print('Total : ', self.total)"
   ]
  },
  {
   "cell_type": "code",
   "execution_count": 7,
   "id": "1182e127",
   "metadata": {},
   "outputs": [],
   "source": [
    "r = result()"
   ]
  },
  {
   "cell_type": "code",
   "execution_count": 14,
   "id": "22a4d5f5",
   "metadata": {},
   "outputs": [],
   "source": [
    "r.method1(70, 'Rohit')"
   ]
  },
  {
   "cell_type": "code",
   "execution_count": 15,
   "id": "42b94613",
   "metadata": {},
   "outputs": [
    {
     "name": "stdout",
     "output_type": "stream",
     "text": [
      "Student Roll number :  70\n",
      "Student Name :  Rohit\n"
     ]
    }
   ],
   "source": [
    "r.method2()"
   ]
  },
  {
   "cell_type": "code",
   "execution_count": 16,
   "id": "7a02738a",
   "metadata": {},
   "outputs": [],
   "source": [
    "r.setmarks(20,30)"
   ]
  },
  {
   "cell_type": "code",
   "execution_count": 17,
   "id": "62e055f7",
   "metadata": {},
   "outputs": [
    {
     "name": "stdout",
     "output_type": "stream",
     "text": [
      "Marks 1 :  20\n",
      "Marks 2 :  30\n"
     ]
    }
   ],
   "source": [
    "r.putmarks()"
   ]
  },
  {
   "cell_type": "code",
   "execution_count": 18,
   "id": "07e9589d",
   "metadata": {},
   "outputs": [],
   "source": [
    "r.calc()"
   ]
  },
  {
   "cell_type": "code",
   "execution_count": 19,
   "id": "b110bdc9",
   "metadata": {},
   "outputs": [
    {
     "name": "stdout",
     "output_type": "stream",
     "text": [
      "Total :  50\n"
     ]
    }
   ],
   "source": [
    "r.puttotal()"
   ]
  },
  {
   "cell_type": "code",
   "execution_count": null,
   "id": "806deb55",
   "metadata": {},
   "outputs": [],
   "source": []
  },
  {
   "cell_type": "code",
   "execution_count": null,
   "id": "626981aa",
   "metadata": {},
   "outputs": [],
   "source": []
  },
  {
   "cell_type": "code",
   "execution_count": null,
   "id": "aa887324",
   "metadata": {},
   "outputs": [],
   "source": []
  },
  {
   "cell_type": "code",
   "execution_count": null,
   "id": "6a9ccca2",
   "metadata": {},
   "outputs": [],
   "source": []
  },
  {
   "cell_type": "code",
   "execution_count": null,
   "id": "202abaf3",
   "metadata": {},
   "outputs": [],
   "source": []
  },
  {
   "cell_type": "markdown",
   "id": "e557521e",
   "metadata": {},
   "source": [
    "# Multilevel Inheritance"
   ]
  },
  {
   "cell_type": "markdown",
   "id": "d73a70ad",
   "metadata": {},
   "source": [
    "**A class derived from a derived class derived from a base class which is derived from another class**"
   ]
  },
  {
   "cell_type": "markdown",
   "id": "9da726ca",
   "metadata": {},
   "source": [
    "**A -> B -> C -> D -> E**"
   ]
  },
  {
   "cell_type": "markdown",
   "id": "762f0968",
   "metadata": {},
   "source": [
    "- **A is a super class**\n",
    "- **We derive a class B from A**\n",
    "- **We derive a class C from B**\n",
    "- **We derive a class D from C**\n",
    "- **Finally derive a class E from D**"
   ]
  },
  {
   "cell_type": "code",
   "execution_count": 20,
   "id": "de313eb1",
   "metadata": {},
   "outputs": [],
   "source": [
    "class Student:\n",
    "    '''This is the first base class'''\n",
    "    def setstudent(self,sno,sname):\n",
    "        '''First method'''\n",
    "        self.sno = sno\n",
    "        self.sname = sname\n",
    "        \n",
    "    def putstudent(self):\n",
    "        '''Second method'''\n",
    "        print('Student Roll number : ', self.sno)\n",
    "        print('Student Name : ', self.sname)\n",
    "        \n",
    "class Marks(Student):\n",
    "    def setmarks(self,m1,m2):\n",
    "        self.m1 = m1\n",
    "        self.m2 = m2\n",
    "        \n",
    "    def putmarks(self):\n",
    "        print('Marks 1 : ', self.m1)\n",
    "        print('Marks 2 : ', self.m2)\n",
    "        \n",
    "class Result(Marks):\n",
    "    def calc(self):\n",
    "        self.total = self.m1 + self.m2\n",
    "        \n",
    "    def puttotal(self):\n",
    "        print('The total marks are : ', self.total)"
   ]
  },
  {
   "cell_type": "code",
   "execution_count": 21,
   "id": "805a5f3e",
   "metadata": {},
   "outputs": [],
   "source": [
    " a = Result()"
   ]
  },
  {
   "cell_type": "code",
   "execution_count": 22,
   "id": "c64d142e",
   "metadata": {},
   "outputs": [],
   "source": [
    "a.setstudent(1101, 'Arun')"
   ]
  },
  {
   "cell_type": "code",
   "execution_count": 23,
   "id": "52f263cd",
   "metadata": {},
   "outputs": [
    {
     "name": "stdout",
     "output_type": "stream",
     "text": [
      "Student Roll number :  1101\n",
      "Student Name :  Arun\n"
     ]
    }
   ],
   "source": [
    "a.putstudent()"
   ]
  },
  {
   "cell_type": "code",
   "execution_count": 24,
   "id": "cce2260a",
   "metadata": {},
   "outputs": [],
   "source": [
    "a.setmarks(55,66)"
   ]
  },
  {
   "cell_type": "code",
   "execution_count": 25,
   "id": "4415e71c",
   "metadata": {},
   "outputs": [
    {
     "name": "stdout",
     "output_type": "stream",
     "text": [
      "Marks 1 :  55\n",
      "Marks 2 :  66\n"
     ]
    }
   ],
   "source": [
    "a.putmarks()"
   ]
  },
  {
   "cell_type": "code",
   "execution_count": 26,
   "id": "f024ce34",
   "metadata": {},
   "outputs": [],
   "source": [
    "a.calc()"
   ]
  },
  {
   "cell_type": "code",
   "execution_count": 27,
   "id": "0f9d527e",
   "metadata": {},
   "outputs": [
    {
     "name": "stdout",
     "output_type": "stream",
     "text": [
      "The total marks are :  121\n"
     ]
    }
   ],
   "source": [
    "a.puttotal()"
   ]
  },
  {
   "cell_type": "code",
   "execution_count": null,
   "id": "9104397f",
   "metadata": {},
   "outputs": [],
   "source": []
  },
  {
   "cell_type": "code",
   "execution_count": null,
   "id": "5355396b",
   "metadata": {},
   "outputs": [],
   "source": []
  },
  {
   "cell_type": "markdown",
   "id": "8fa74492",
   "metadata": {},
   "source": [
    "# Heirarchical inheritance"
   ]
  },
  {
   "cell_type": "markdown",
   "id": "dcc87c37",
   "metadata": {},
   "source": [
    "**A base class contains more than two derived class**"
   ]
  },
  {
   "cell_type": "markdown",
   "id": "e6a40fed",
   "metadata": {},
   "source": [
    "Father -> Child1 and child 2"
   ]
  },
  {
   "cell_type": "code",
   "execution_count": 29,
   "id": "048cc835",
   "metadata": {},
   "outputs": [],
   "source": [
    "class One:\n",
    "    def display(self):\n",
    "        self.x = 1000\n",
    "        self.y = 2000\n",
    "        print('This is the display method in class one')\n",
    "        print('X = ', self.x)\n",
    "        print('Y = ', self.y)\n",
    "        \n",
    "class Two(One):\n",
    "    def add(self):\n",
    "        print('This is the method add in class two')\n",
    "        print('X+Y = ', self.x + self.y)\n",
    "        \n",
    "class Three(One):\n",
    "    def multiply(self):\n",
    "        print('This is the method multiply in class three')\n",
    "        print('X*Y = ', self.x * self.y)"
   ]
  },
  {
   "cell_type": "code",
   "execution_count": 30,
   "id": "281225cd",
   "metadata": {},
   "outputs": [],
   "source": [
    "two = Two()"
   ]
  },
  {
   "cell_type": "code",
   "execution_count": 31,
   "id": "5a698478",
   "metadata": {},
   "outputs": [],
   "source": [
    "three = Three()"
   ]
  },
  {
   "cell_type": "code",
   "execution_count": 32,
   "id": "68dee6ca",
   "metadata": {},
   "outputs": [
    {
     "name": "stdout",
     "output_type": "stream",
     "text": [
      "This is the display method in class one\n",
      "X =  1000\n",
      "Y =  2000\n"
     ]
    }
   ],
   "source": [
    "two.display()"
   ]
  },
  {
   "cell_type": "code",
   "execution_count": 34,
   "id": "47c4f4d1",
   "metadata": {},
   "outputs": [
    {
     "name": "stdout",
     "output_type": "stream",
     "text": [
      "This is the method add in class two\n",
      "X+Y =  3000\n"
     ]
    }
   ],
   "source": [
    "two.add()"
   ]
  },
  {
   "cell_type": "code",
   "execution_count": 35,
   "id": "3d176762",
   "metadata": {},
   "outputs": [
    {
     "name": "stdout",
     "output_type": "stream",
     "text": [
      "This is the display method in class one\n",
      "X =  1000\n",
      "Y =  2000\n"
     ]
    }
   ],
   "source": [
    "three.display()"
   ]
  },
  {
   "cell_type": "code",
   "execution_count": 36,
   "id": "e24b6af1",
   "metadata": {},
   "outputs": [
    {
     "name": "stdout",
     "output_type": "stream",
     "text": [
      "This is the method multiply in class three\n",
      "X*Y =  2000000\n"
     ]
    }
   ],
   "source": [
    "three.multiply()"
   ]
  },
  {
   "cell_type": "markdown",
   "id": "29f86550",
   "metadata": {},
   "source": [
    "# Hybrid Inheritance"
   ]
  },
  {
   "cell_type": "markdown",
   "id": "d19d27b1",
   "metadata": {},
   "source": [
    "**Multiple + Multilevel Inheritance**"
   ]
  },
  {
   "cell_type": "code",
   "execution_count": 37,
   "id": "d8df0f58",
   "metadata": {},
   "outputs": [],
   "source": [
    "class Student:\n",
    "    '''This is the first base class'''\n",
    "    def setstudent(self,sno,sname):\n",
    "        '''First method'''\n",
    "        self.sno = sno\n",
    "        self.sname = sname\n",
    "        \n",
    "    def putstudent(self):\n",
    "        '''Second method'''\n",
    "        print('Student Roll number : ', self.sno)\n",
    "        print('Student Name : ', self.sname)\n",
    "\n",
    "class Marks(Student):\n",
    "    def setmarks(self,m1,m2):\n",
    "        self.m1 = m1\n",
    "        self.m2 = m2\n",
    "        \n",
    "    def putmarks(self):\n",
    "        print('Marks 1 : ', self.m1)\n",
    "        print('Marks 2 : ', self.m2)\n",
    "\n",
    "class Practical:\n",
    "    def getpractical(self,p1):\n",
    "        self.p1 = p1\n",
    "        \n",
    "    def putpratical(self):\n",
    "        print('Practical Marks', self.p1)\n",
    "        \n",
    "class Result(Marks, Practical):\n",
    "    def calc(self):\n",
    "        self.total = self.m1 + self.m2 + self.p1\n",
    "        \n",
    "    def puttotal(self):\n",
    "        print('The total marks are: ', self.total)"
   ]
  },
  {
   "cell_type": "code",
   "execution_count": 38,
   "id": "9267e8e2",
   "metadata": {},
   "outputs": [],
   "source": [
    "hybrid = Result()"
   ]
  },
  {
   "cell_type": "code",
   "execution_count": 39,
   "id": "ba07f7a9",
   "metadata": {},
   "outputs": [],
   "source": [
    "hybrid.setstudent(1201, 'Arun')"
   ]
  },
  {
   "cell_type": "code",
   "execution_count": 40,
   "id": "8d2e97ce",
   "metadata": {},
   "outputs": [
    {
     "name": "stdout",
     "output_type": "stream",
     "text": [
      "Student Roll number :  1201\n",
      "Student Name :  Arun\n"
     ]
    }
   ],
   "source": [
    "hybrid.putstudent()"
   ]
  },
  {
   "cell_type": "code",
   "execution_count": 41,
   "id": "c942dd21",
   "metadata": {},
   "outputs": [],
   "source": [
    "hybrid.setmarks(10,12)"
   ]
  },
  {
   "cell_type": "code",
   "execution_count": 42,
   "id": "8d4084f8",
   "metadata": {},
   "outputs": [
    {
     "name": "stdout",
     "output_type": "stream",
     "text": [
      "Marks 1 :  10\n",
      "Marks 2 :  12\n"
     ]
    }
   ],
   "source": [
    "hybrid.putmarks()"
   ]
  },
  {
   "cell_type": "code",
   "execution_count": 43,
   "id": "493eaf2c",
   "metadata": {},
   "outputs": [],
   "source": [
    "hybrid.getpractical(75)"
   ]
  },
  {
   "cell_type": "code",
   "execution_count": 44,
   "id": "bf97a11e",
   "metadata": {},
   "outputs": [
    {
     "name": "stdout",
     "output_type": "stream",
     "text": [
      "Practical Marks 75\n"
     ]
    }
   ],
   "source": [
    "hybrid.putpratical()"
   ]
  },
  {
   "cell_type": "code",
   "execution_count": 45,
   "id": "1d65ca9d",
   "metadata": {},
   "outputs": [],
   "source": [
    "hybrid.calc()"
   ]
  },
  {
   "cell_type": "code",
   "execution_count": 46,
   "id": "05d02efe",
   "metadata": {},
   "outputs": [
    {
     "name": "stdout",
     "output_type": "stream",
     "text": [
      "The total marks are:  97\n"
     ]
    }
   ],
   "source": [
    "hybrid.puttotal()"
   ]
  },
  {
   "cell_type": "code",
   "execution_count": null,
   "id": "138b778e",
   "metadata": {},
   "outputs": [],
   "source": []
  }
 ],
 "metadata": {
  "kernelspec": {
   "display_name": "Python 3 (ipykernel)",
   "language": "python",
   "name": "python3"
  },
  "language_info": {
   "codemirror_mode": {
    "name": "ipython",
    "version": 3
   },
   "file_extension": ".py",
   "mimetype": "text/x-python",
   "name": "python",
   "nbconvert_exporter": "python",
   "pygments_lexer": "ipython3",
   "version": "3.9.12"
  }
 },
 "nbformat": 4,
 "nbformat_minor": 5
}
